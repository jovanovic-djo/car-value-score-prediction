{
 "cells": [
  {
   "cell_type": "code",
   "execution_count": 54,
   "metadata": {},
   "outputs": [],
   "source": [
    "import pandas as pd\n",
    "from sklearn.preprocessing import OrdinalEncoder, LabelEncoder\n",
    "from IPython.display import HTML"
   ]
  },
  {
   "cell_type": "code",
   "execution_count": 55,
   "metadata": {},
   "outputs": [
    {
     "name": "stdout",
     "output_type": "stream",
     "text": [
      "\n",
      "Number of missing values in dataset:\n",
      "buying          0\n",
      "maintenance     0\n",
      "doors           0\n",
      "persons         0\n",
      "luggage_boot    0\n",
      "safety          0\n",
      "class_values    0\n",
      "dtype: int64\n"
     ]
    }
   ],
   "source": [
    "df = pd.read_csv('..\\\\data\\\\unclean\\\\car_dataset.csv', delimiter = \";\")\n",
    "print(\"\\nNumber of missing values in dataset:\")\n",
    "print(df.isnull().sum())\n",
    "\n",
    "output_path = \"..\\\\data\\\\clean\\\\\""
   ]
  },
  {
   "cell_type": "code",
   "execution_count": 56,
   "metadata": {},
   "outputs": [
    {
     "name": "stdout",
     "output_type": "stream",
     "text": [
      "   buying  maintenance  doors  persons  luggage_boot  safety class_values\n",
      "0     3.0          3.0    0.0      0.0           0.0     0.0        unacc\n",
      "1     3.0          3.0    0.0      0.0           0.0     1.0        unacc\n",
      "2     3.0          3.0    0.0      0.0           0.0     2.0        unacc\n",
      "3     3.0          3.0    0.0      0.0           1.0     0.0        unacc\n",
      "4     3.0          3.0    0.0      0.0           1.0     1.0        unacc\n"
     ]
    }
   ],
   "source": [
    "ordinal_categories = {\n",
    "    'buying': ['low', 'med', 'high', 'vhigh'],\n",
    "    'safety': ['low', 'med', 'high'],\n",
    "    'maintenance': ['low', 'med', 'high', 'vhigh'],\n",
    "    'doors': ['2', '3', '4', '5more'],\n",
    "    'luggage_boot': ['small', 'med', 'big'],\n",
    "    'persons': ['2', '4', 'more']\n",
    "}\n",
    "ordinal_encoder = OrdinalEncoder()\n",
    "df_encoded = df.copy()\n",
    "\n",
    "for column, categories in ordinal_categories.items():\n",
    "    column_encoder = OrdinalEncoder(categories=[categories])\n",
    "    df_encoded[column] = column_encoder.fit_transform(df_encoded[[column]])\n",
    "\n",
    "print(df_encoded.head())"
   ]
  },
  {
   "cell_type": "code",
   "execution_count": 57,
   "metadata": {},
   "outputs": [
    {
     "data": {
      "text/html": [
       "<table><tr><th>buying</th><th>safety</th><th>maintenance</th><th>doors</th><th>luggage_boot</th><th>persons</th></tr><tr><td><table border=\"1\" class=\"dataframe\">\n",
       "  <thead>\n",
       "    <tr style=\"text-align: right;\">\n",
       "      <th>Original Value</th>\n",
       "      <th>Encoded Value</th>\n",
       "    </tr>\n",
       "  </thead>\n",
       "  <tbody>\n",
       "    <tr>\n",
       "      <td>low</td>\n",
       "      <td>0</td>\n",
       "    </tr>\n",
       "    <tr>\n",
       "      <td>med</td>\n",
       "      <td>1</td>\n",
       "    </tr>\n",
       "    <tr>\n",
       "      <td>high</td>\n",
       "      <td>2</td>\n",
       "    </tr>\n",
       "    <tr>\n",
       "      <td>vhigh</td>\n",
       "      <td>3</td>\n",
       "    </tr>\n",
       "  </tbody>\n",
       "</table></td><td><table border=\"1\" class=\"dataframe\">\n",
       "  <thead>\n",
       "    <tr style=\"text-align: right;\">\n",
       "      <th>Original Value</th>\n",
       "      <th>Encoded Value</th>\n",
       "    </tr>\n",
       "  </thead>\n",
       "  <tbody>\n",
       "    <tr>\n",
       "      <td>low</td>\n",
       "      <td>0</td>\n",
       "    </tr>\n",
       "    <tr>\n",
       "      <td>med</td>\n",
       "      <td>1</td>\n",
       "    </tr>\n",
       "    <tr>\n",
       "      <td>high</td>\n",
       "      <td>2</td>\n",
       "    </tr>\n",
       "  </tbody>\n",
       "</table></td><td><table border=\"1\" class=\"dataframe\">\n",
       "  <thead>\n",
       "    <tr style=\"text-align: right;\">\n",
       "      <th>Original Value</th>\n",
       "      <th>Encoded Value</th>\n",
       "    </tr>\n",
       "  </thead>\n",
       "  <tbody>\n",
       "    <tr>\n",
       "      <td>low</td>\n",
       "      <td>0</td>\n",
       "    </tr>\n",
       "    <tr>\n",
       "      <td>med</td>\n",
       "      <td>1</td>\n",
       "    </tr>\n",
       "    <tr>\n",
       "      <td>high</td>\n",
       "      <td>2</td>\n",
       "    </tr>\n",
       "    <tr>\n",
       "      <td>vhigh</td>\n",
       "      <td>3</td>\n",
       "    </tr>\n",
       "  </tbody>\n",
       "</table></td><td><table border=\"1\" class=\"dataframe\">\n",
       "  <thead>\n",
       "    <tr style=\"text-align: right;\">\n",
       "      <th>Original Value</th>\n",
       "      <th>Encoded Value</th>\n",
       "    </tr>\n",
       "  </thead>\n",
       "  <tbody>\n",
       "    <tr>\n",
       "      <td>2</td>\n",
       "      <td>0</td>\n",
       "    </tr>\n",
       "    <tr>\n",
       "      <td>3</td>\n",
       "      <td>1</td>\n",
       "    </tr>\n",
       "    <tr>\n",
       "      <td>4</td>\n",
       "      <td>2</td>\n",
       "    </tr>\n",
       "    <tr>\n",
       "      <td>5more</td>\n",
       "      <td>3</td>\n",
       "    </tr>\n",
       "  </tbody>\n",
       "</table></td><td><table border=\"1\" class=\"dataframe\">\n",
       "  <thead>\n",
       "    <tr style=\"text-align: right;\">\n",
       "      <th>Original Value</th>\n",
       "      <th>Encoded Value</th>\n",
       "    </tr>\n",
       "  </thead>\n",
       "  <tbody>\n",
       "    <tr>\n",
       "      <td>small</td>\n",
       "      <td>0</td>\n",
       "    </tr>\n",
       "    <tr>\n",
       "      <td>med</td>\n",
       "      <td>1</td>\n",
       "    </tr>\n",
       "    <tr>\n",
       "      <td>big</td>\n",
       "      <td>2</td>\n",
       "    </tr>\n",
       "  </tbody>\n",
       "</table></td><td><table border=\"1\" class=\"dataframe\">\n",
       "  <thead>\n",
       "    <tr style=\"text-align: right;\">\n",
       "      <th>Original Value</th>\n",
       "      <th>Encoded Value</th>\n",
       "    </tr>\n",
       "  </thead>\n",
       "  <tbody>\n",
       "    <tr>\n",
       "      <td>2</td>\n",
       "      <td>0</td>\n",
       "    </tr>\n",
       "    <tr>\n",
       "      <td>4</td>\n",
       "      <td>1</td>\n",
       "    </tr>\n",
       "    <tr>\n",
       "      <td>more</td>\n",
       "      <td>2</td>\n",
       "    </tr>\n",
       "  </tbody>\n",
       "</table></td></tr></table>"
      ],
      "text/plain": [
       "<IPython.core.display.HTML object>"
      ]
     },
     "metadata": {},
     "output_type": "display_data"
    }
   ],
   "source": [
    "output = \"<table><tr>\"\n",
    "\n",
    "for column, categories in ordinal_categories.items():\n",
    "    output += f\"<th>{column}</th>\"\n",
    "output += \"</tr><tr>\"\n",
    "\n",
    "for column, categories in ordinal_categories.items():\n",
    "    mapping_df = pd.DataFrame({\n",
    "        'Original Value': categories,\n",
    "        'Encoded Value': range(len(categories))\n",
    "    })\n",
    "    \n",
    "    mapping_html = mapping_df.to_html(header=True, border=1, index=False)\n",
    "    output += f\"<td>{mapping_html}</td>\"\n",
    "output += \"</tr></table>\"\n",
    "\n",
    "display(HTML(output))"
   ]
  },
  {
   "cell_type": "code",
   "execution_count": 58,
   "metadata": {},
   "outputs": [
    {
     "name": "stdout",
     "output_type": "stream",
     "text": [
      "      buying  maintenance  doors  persons  luggage_boot  safety  class_value\n",
      "0        3.0          3.0    0.0      0.0           0.0     0.0            2\n",
      "1        3.0          3.0    0.0      0.0           0.0     1.0            2\n",
      "2        3.0          3.0    0.0      0.0           0.0     2.0            2\n",
      "3        3.0          3.0    0.0      0.0           1.0     0.0            2\n",
      "4        3.0          3.0    0.0      0.0           1.0     1.0            2\n",
      "...      ...          ...    ...      ...           ...     ...          ...\n",
      "1723     0.0          0.0    3.0      2.0           1.0     1.0            1\n",
      "1724     0.0          0.0    3.0      2.0           1.0     2.0            3\n",
      "1725     0.0          0.0    3.0      2.0           2.0     0.0            2\n",
      "1726     0.0          0.0    3.0      2.0           2.0     1.0            1\n",
      "1727     0.0          0.0    3.0      2.0           2.0     2.0            3\n",
      "\n",
      "[1728 rows x 7 columns]\n"
     ]
    }
   ],
   "source": [
    "le = LabelEncoder()\n",
    "df_encoded['class_values'] = le.fit_transform(df_encoded['class_values'])\n",
    "df_encoded.rename(columns={'class_values': 'class_value'}, inplace=True)\n",
    "\n",
    "print(df_encoded)\n"
   ]
  },
  {
   "cell_type": "code",
   "execution_count": 59,
   "metadata": {},
   "outputs": [],
   "source": [
    "file_name = \"ordinal_encoded.csv\"\n",
    "df_encoded.to_csv(output_path + file_name, index=False)"
   ]
  }
 ],
 "metadata": {
  "kernelspec": {
   "display_name": "venv",
   "language": "python",
   "name": "python3"
  },
  "language_info": {
   "codemirror_mode": {
    "name": "ipython",
    "version": 3
   },
   "file_extension": ".py",
   "mimetype": "text/x-python",
   "name": "python",
   "nbconvert_exporter": "python",
   "pygments_lexer": "ipython3",
   "version": "3.12.0"
  }
 },
 "nbformat": 4,
 "nbformat_minor": 2
}
